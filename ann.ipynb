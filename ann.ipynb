{
 "cells": [
  {
   "cell_type": "code",
   "execution_count": 1,
   "id": "6a39177b-4f6a-440d-85dd-1d1453aba6df",
   "metadata": {},
   "outputs": [],
   "source": [
    "import matplotlib.pyplot as plt\n",
    "import numpy as np\n",
    "import pandas as pd\n",
    "import joblib \n",
    "from matplotlib.colors import ListedColormap\n"
   ]
  },
  {
   "cell_type": "code",
   "execution_count": 23,
   "id": "f5cc7391-4a39-454e-b388-02c1bb6e29dd",
   "metadata": {},
   "outputs": [],
   "source": [
    "class Perceptron:\n",
    "    def __init__(self,eta,epochs):\n",
    "        \n",
    "        self.weights = np.random.randn(3) * 1e-4\n",
    "        print(f\"initial weights before trianing: {self.weights}\")\n",
    "        self.eta = eta\n",
    "        self.epochs = epochs\n",
    "    \n",
    "    def activationFunction(self, inputs, weights):\n",
    "        z = np.dot(inputs, weights)\n",
    "        return np.where(z > 0 ,1,0)\n",
    "    \n",
    "    def fit(self,X,y):\n",
    "        self.X = X\n",
    "        self.y = y\n",
    "        \n",
    "        x_with_bias = np.c_[self.X,-np.ones((len(self.X),1))]\n",
    "        \n",
    "        print(f\"X with bias value:{x_with_bias}\")\n",
    "        \n",
    "        for epoch in range(self.epochs):\n",
    "            print(\"--\"*10)\n",
    "            print(f\"for epoch:{epoch }\")\n",
    "            print(\"--\"*10)\n",
    "            \n",
    "            y_hat = self. activationFunction(x_with_bias, self. weights) # forwerd Propagation\n",
    "            print(f\"Predicted value after forwerd pass:{y_hat}\")\n",
    "            self.error = self.y - y_hat\n",
    "            print (f\"error:{self.error}\")\n",
    "            self.weights = self.weights + self.eta * np.dot(x_with_bias.T, self.error) # backward propagation\n",
    "            print(f\"updated weights after epoch :{epoch/self.epochs} :{self.weights}\")\n",
    "            print(\"****\"*10)\n",
    "            \n",
    "    def predict(self,x):\n",
    "        x_with_bias = np.c_[X,-np.ones((len(X),1))]\n",
    "        return self.activationFunction(x_with_bias,self.weights)\n",
    "\n",
    "    \n",
    "    def total_loss(self):\n",
    "        total_loss = np.sum(self.error)\n",
    "        print(f\"total loss :{total_loss}\")\n",
    "        return total_loss\n",
    "    "
   ]
  },
  {
   "cell_type": "code",
   "execution_count": 24,
   "id": "67bc76d4-1624-4d67-a281-37d199eaf3fd",
   "metadata": {},
   "outputs": [],
   "source": [
    "def prepare_data(df):\n",
    "    X = df.drop(\"y\",axis = 1)\n",
    "    y = df[\"y\"]\n",
    "    return X , y"
   ]
  },
  {
   "cell_type": "code",
   "execution_count": 25,
   "id": "a372f7a3-e0f6-4f40-a404-5666fd0de6ec",
   "metadata": {},
   "outputs": [
    {
     "data": {
      "text/html": [
       "<div>\n",
       "<style scoped>\n",
       "    .dataframe tbody tr th:only-of-type {\n",
       "        vertical-align: middle;\n",
       "    }\n",
       "\n",
       "    .dataframe tbody tr th {\n",
       "        vertical-align: top;\n",
       "    }\n",
       "\n",
       "    .dataframe thead th {\n",
       "        text-align: right;\n",
       "    }\n",
       "</style>\n",
       "<table border=\"1\" class=\"dataframe\">\n",
       "  <thead>\n",
       "    <tr style=\"text-align: right;\">\n",
       "      <th></th>\n",
       "      <th>x1</th>\n",
       "      <th>x2</th>\n",
       "      <th>y</th>\n",
       "    </tr>\n",
       "  </thead>\n",
       "  <tbody>\n",
       "    <tr>\n",
       "      <th>0</th>\n",
       "      <td>0</td>\n",
       "      <td>0</td>\n",
       "      <td>0</td>\n",
       "    </tr>\n",
       "    <tr>\n",
       "      <th>1</th>\n",
       "      <td>0</td>\n",
       "      <td>1</td>\n",
       "      <td>0</td>\n",
       "    </tr>\n",
       "    <tr>\n",
       "      <th>2</th>\n",
       "      <td>1</td>\n",
       "      <td>0</td>\n",
       "      <td>0</td>\n",
       "    </tr>\n",
       "    <tr>\n",
       "      <th>3</th>\n",
       "      <td>1</td>\n",
       "      <td>1</td>\n",
       "      <td>1</td>\n",
       "    </tr>\n",
       "  </tbody>\n",
       "</table>\n",
       "</div>"
      ],
      "text/plain": [
       "   x1  x2  y\n",
       "0   0   0  0\n",
       "1   0   1  0\n",
       "2   1   0  0\n",
       "3   1   1  1"
      ]
     },
     "execution_count": 25,
     "metadata": {},
     "output_type": "execute_result"
    }
   ],
   "source": [
    "AND = {\n",
    "   \"x1\" : [0,0,1,1],\n",
    "    \"x2\": [0,1,0,1],\n",
    "    \"y\": [0,0,0,1]\n",
    "}\n",
    "df = pd.DataFrame(AND)\n",
    "df"
   ]
  },
  {
   "cell_type": "code",
   "execution_count": 26,
   "id": "979765b8-d403-4a1e-9e75-7eb391000f02",
   "metadata": {},
   "outputs": [
    {
     "name": "stdout",
     "output_type": "stream",
     "text": [
      "initial weights before trianing: [1.11375604e-04 6.90739221e-05 1.41419115e-04]\n",
      "X with bias value:[[ 0.  0. -1.]\n",
      " [ 0.  1. -1.]\n",
      " [ 1.  0. -1.]\n",
      " [ 1.  1. -1.]]\n",
      "--------------------\n",
      "for epoch:0\n",
      "--------------------\n",
      "Predicted value after forwerd pass:[0 0 0 1]\n",
      "error:0    0\n",
      "1    0\n",
      "2    0\n",
      "3    0\n",
      "Name: y, dtype: int64\n",
      "updated weights after epoch :0.0 :[1.11375604e-04 6.90739221e-05 1.41419115e-04]\n",
      "****************************************\n",
      "--------------------\n",
      "for epoch:1\n",
      "--------------------\n",
      "Predicted value after forwerd pass:[0 0 0 1]\n",
      "error:0    0\n",
      "1    0\n",
      "2    0\n",
      "3    0\n",
      "Name: y, dtype: int64\n",
      "updated weights after epoch :0.1 :[1.11375604e-04 6.90739221e-05 1.41419115e-04]\n",
      "****************************************\n",
      "--------------------\n",
      "for epoch:2\n",
      "--------------------\n",
      "Predicted value after forwerd pass:[0 0 0 1]\n",
      "error:0    0\n",
      "1    0\n",
      "2    0\n",
      "3    0\n",
      "Name: y, dtype: int64\n",
      "updated weights after epoch :0.2 :[1.11375604e-04 6.90739221e-05 1.41419115e-04]\n",
      "****************************************\n",
      "--------------------\n",
      "for epoch:3\n",
      "--------------------\n",
      "Predicted value after forwerd pass:[0 0 0 1]\n",
      "error:0    0\n",
      "1    0\n",
      "2    0\n",
      "3    0\n",
      "Name: y, dtype: int64\n",
      "updated weights after epoch :0.3 :[1.11375604e-04 6.90739221e-05 1.41419115e-04]\n",
      "****************************************\n",
      "--------------------\n",
      "for epoch:4\n",
      "--------------------\n",
      "Predicted value after forwerd pass:[0 0 0 1]\n",
      "error:0    0\n",
      "1    0\n",
      "2    0\n",
      "3    0\n",
      "Name: y, dtype: int64\n",
      "updated weights after epoch :0.4 :[1.11375604e-04 6.90739221e-05 1.41419115e-04]\n",
      "****************************************\n",
      "--------------------\n",
      "for epoch:5\n",
      "--------------------\n",
      "Predicted value after forwerd pass:[0 0 0 1]\n",
      "error:0    0\n",
      "1    0\n",
      "2    0\n",
      "3    0\n",
      "Name: y, dtype: int64\n",
      "updated weights after epoch :0.5 :[1.11375604e-04 6.90739221e-05 1.41419115e-04]\n",
      "****************************************\n",
      "--------------------\n",
      "for epoch:6\n",
      "--------------------\n",
      "Predicted value after forwerd pass:[0 0 0 1]\n",
      "error:0    0\n",
      "1    0\n",
      "2    0\n",
      "3    0\n",
      "Name: y, dtype: int64\n",
      "updated weights after epoch :0.6 :[1.11375604e-04 6.90739221e-05 1.41419115e-04]\n",
      "****************************************\n",
      "--------------------\n",
      "for epoch:7\n",
      "--------------------\n",
      "Predicted value after forwerd pass:[0 0 0 1]\n",
      "error:0    0\n",
      "1    0\n",
      "2    0\n",
      "3    0\n",
      "Name: y, dtype: int64\n",
      "updated weights after epoch :0.7 :[1.11375604e-04 6.90739221e-05 1.41419115e-04]\n",
      "****************************************\n",
      "--------------------\n",
      "for epoch:8\n",
      "--------------------\n",
      "Predicted value after forwerd pass:[0 0 0 1]\n",
      "error:0    0\n",
      "1    0\n",
      "2    0\n",
      "3    0\n",
      "Name: y, dtype: int64\n",
      "updated weights after epoch :0.8 :[1.11375604e-04 6.90739221e-05 1.41419115e-04]\n",
      "****************************************\n",
      "--------------------\n",
      "for epoch:9\n",
      "--------------------\n",
      "Predicted value after forwerd pass:[0 0 0 1]\n",
      "error:0    0\n",
      "1    0\n",
      "2    0\n",
      "3    0\n",
      "Name: y, dtype: int64\n",
      "updated weights after epoch :0.9 :[1.11375604e-04 6.90739221e-05 1.41419115e-04]\n",
      "****************************************\n",
      "total loss :0\n"
     ]
    }
   ],
   "source": [
    "X, y = prepare_data(df)\n",
    "ETA = 0.3\n",
    "EPOCHS = 10\n",
    "\n",
    "model = Perceptron(eta = ETA, epochs = EPOCHS)\n",
    "model.fit(X,y)\n",
    "\n",
    "_ = model.total_loss()\n",
    "\n"
   ]
  },
  {
   "cell_type": "code",
   "execution_count": 30,
   "id": "91f75b0f-cd98-4592-bc6c-03e7d8889210",
   "metadata": {},
   "outputs": [
    {
     "data": {
      "text/plain": [
       "array([0, 0, 0, 1])"
      ]
     },
     "execution_count": 30,
     "metadata": {},
     "output_type": "execute_result"
    }
   ],
   "source": [
    "inputs = np.array([1,0])\n",
    "model.predict(inputs)"
   ]
  },
  {
   "cell_type": "code",
   "execution_count": 31,
   "id": "16b70a0f-e721-48c2-83e5-e9305a0f19c7",
   "metadata": {},
   "outputs": [],
   "source": [
    "import os\n"
   ]
  },
  {
   "cell_type": "code",
   "execution_count": 32,
   "id": "3bd5f1e2-63d1-4184-84ba-4853dcab7de9",
   "metadata": {},
   "outputs": [],
   "source": [
    "def save_model(model, filname):\n",
    "    model_dir = \"models\"\n",
    "    os.makedirs(model_dir,exist_ok = True) # Only create if model direcotry does not exist\n",
    "    filePath = os.path.join(model_dir,filname) # model/filename\n",
    "    joblib.dump(model,filePath)\n",
    "    "
   ]
  },
  {
   "cell_type": "code",
   "execution_count": 33,
   "id": "31893938-b5a3-4fb5-b56d-3dc59e638d13",
   "metadata": {},
   "outputs": [],
   "source": [
    "save_model(model,\"and.model\")"
   ]
  },
  {
   "cell_type": "code",
   "execution_count": 35,
   "id": "378de3d4-9092-4a4a-82ff-4b5424a724d5",
   "metadata": {},
   "outputs": [
    {
     "data": {
      "text/plain": [
       "array([0, 0, 0, 1])"
      ]
     },
     "execution_count": 35,
     "metadata": {},
     "output_type": "execute_result"
    }
   ],
   "source": [
    "loaded_model = joblib.load(\"models/and.model\")\n",
    "\n",
    "loaded_model.predict(inputs)"
   ]
  },
  {
   "cell_type": "code",
   "execution_count": null,
   "id": "2ca0d24c-a07d-4519-8899-50566ac4e2d7",
   "metadata": {},
   "outputs": [],
   "source": []
  }
 ],
 "metadata": {
  "kernelspec": {
   "display_name": "Python 3 (ipykernel)",
   "language": "python",
   "name": "python3"
  },
  "language_info": {
   "codemirror_mode": {
    "name": "ipython",
    "version": 3
   },
   "file_extension": ".py",
   "mimetype": "text/x-python",
   "name": "python",
   "nbconvert_exporter": "python",
   "pygments_lexer": "ipython3",
   "version": "3.9.13"
  }
 },
 "nbformat": 4,
 "nbformat_minor": 5
}
